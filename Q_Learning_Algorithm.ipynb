{
 "cells": [
  {
   "cell_type": "markdown",
   "metadata": {},
   "source": [
    "# Reinforcement Learning Project\n",
    "\n",
    "This Q-learning algorithm learns how to play the \"Frozen lake\" game from the openAI's Gym library.\n",
    "This code is inspired and been influenced by DeepLizzard whos blog post can be found here: http://deeplizard.com/learn/video/QK_PP_2KgGE"
   ]
  },
  {
   "cell_type": "markdown",
   "metadata": {},
   "source": [
    "# Imports"
   ]
  },
  {
   "cell_type": "code",
   "execution_count": 207,
   "metadata": {},
   "outputs": [],
   "source": [
    "import gym\n",
    "import numpy as np\n",
    "import random\n",
    "import matplotlib.pyplot as plt\n",
    "import time \n",
    "from IPython.display import clear_output"
   ]
  },
  {
   "cell_type": "markdown",
   "metadata": {},
   "source": [
    "# Build the enviroment\n",
    "We use the openAI \"gym\" to load an pre build game and simple API that allows us to interract with the enviroment"
   ]
  },
  {
   "cell_type": "code",
   "execution_count": 208,
   "metadata": {},
   "outputs": [],
   "source": [
    "env = gym.make(\"FrozenLake-v0\")\n",
    "\n",
    "action_space_size = env.action_space.n\n",
    "state_space_size = env.observation_space.n\n"
   ]
  },
  {
   "cell_type": "markdown",
   "metadata": {},
   "source": [
    "Next we build a Q-table with height of the number of all possible states in the game and width of the number of actions we can perform."
   ]
  },
  {
   "cell_type": "code",
   "execution_count": 209,
   "metadata": {
    "scrolled": true
   },
   "outputs": [
    {
     "name": "stdout",
     "output_type": "stream",
     "text": [
      "[[0. 0. 0. 0.]\n",
      " [0. 0. 0. 0.]\n",
      " [0. 0. 0. 0.]\n",
      " [0. 0. 0. 0.]\n",
      " [0. 0. 0. 0.]\n",
      " [0. 0. 0. 0.]\n",
      " [0. 0. 0. 0.]\n",
      " [0. 0. 0. 0.]\n",
      " [0. 0. 0. 0.]\n",
      " [0. 0. 0. 0.]\n",
      " [0. 0. 0. 0.]\n",
      " [0. 0. 0. 0.]\n",
      " [0. 0. 0. 0.]\n",
      " [0. 0. 0. 0.]\n",
      " [0. 0. 0. 0.]\n",
      " [0. 0. 0. 0.]]\n"
     ]
    }
   ],
   "source": [
    "Q_table = np.zeros((state_space_size, action_space_size))\n",
    "\n",
    "print(Q_table)"
   ]
  },
  {
   "cell_type": "markdown",
   "metadata": {},
   "source": [
    "# Hyper parameters\n",
    "\n",
    "Here we define all the variables that can be changed to influence the learning process"
   ]
  },
  {
   "cell_type": "code",
   "execution_count": 210,
   "metadata": {},
   "outputs": [],
   "source": [
    "num_of_episodes = 20000\n",
    "max_steps_per_episode = 200\n",
    "\n",
    "learning_rate = 0.1\n",
    "discount_rate = 0.99\n",
    "\n",
    "exploration_rate = 1"
   ]
  },
  {
   "cell_type": "markdown",
   "metadata": {},
   "source": [
    "# The training process\n",
    "\n",
    "The training process is based on two main loops. In the first loop we go through all episodes and in the inner one we go trough indvidual episodes including taking the steps and getting rewards. After every step we get an reward from the enviroment and we update the Q-table.\n",
    "\n",
    "We have an exploration_rate that definis how likely it is for our agent to take action based on exploration or explotation. We start with exploration_rate being number of \"1\" and after each episode we update the number with logarithm function so that it goes down to zero pretty quickly and the agent only exploits the enviroment."
   ]
  },
  {
   "cell_type": "code",
   "execution_count": 211,
   "metadata": {},
   "outputs": [],
   "source": [
    "\n",
    "rewards_of_all_episodes = []\n",
    "\n",
    "for episode in range(num_of_episodes):\n",
    "    state = env.reset()\n",
    "        \n",
    "    done = False\n",
    "    rewards_current_episode = 0\n",
    "    \n",
    "    for step in range(max_steps_per_episode):\n",
    "        \n",
    "        random_number = random.uniform(0,1)\n",
    "        \n",
    "        if random_number > exploration_rate:\n",
    "            action = np.argmax(Q_table[state,:]) \n",
    "            \n",
    "        else:\n",
    "            action = env.action_space.sample() \n",
    "        \n",
    "        new_state, reward, done, info = env.step(action)\n",
    "\n",
    "        Q_table[state, action] = Q_table[state, action] * (1 - learning_rate) \\\n",
    "        + learning_rate * (reward + discount_rate * np.max(Q_table[new_state,:]))\n",
    "\n",
    "        state = new_state\n",
    "        rewards_current_episode = rewards_current_episode + reward\n",
    "        \n",
    "        if done == True:\n",
    "            break\n",
    "                \n",
    "    exploration_rate = 1 - np.log(episode + 1) / np.log(num_of_episodes + 1)\n",
    "        \n",
    "    rewards_of_all_episodes.append(rewards_current_episode)   "
   ]
  },
  {
   "cell_type": "markdown",
   "metadata": {},
   "source": [
    "# Visualize the training process\n",
    "\n",
    "We print out and plot the avarage reward per thousand episodes to see how our agent evolves over time."
   ]
  },
  {
   "cell_type": "code",
   "execution_count": 212,
   "metadata": {
    "scrolled": true
   },
   "outputs": [
    {
     "name": "stdout",
     "output_type": "stream",
     "text": [
      "Average reward per thousand episodes \n",
      "\n",
      "1000 : 0.064\n",
      "2000 : 0.201\n",
      "3000 : 0.209\n",
      "4000 : 0.262\n",
      "5000 : 0.285\n",
      "6000 : 0.339\n",
      "7000 : 0.35\n",
      "8000 : 0.394\n",
      "9000 : 0.461\n",
      "10000 : 0.413\n",
      "11000 : 0.503\n",
      "12000 : 0.486\n",
      "13000 : 0.538\n",
      "14000 : 0.548\n",
      "15000 : 0.584\n",
      "16000 : 0.593\n",
      "17000 : 0.643\n",
      "18000 : 0.655\n",
      "19000 : 0.693\n",
      "20000 : 0.709\n"
     ]
    },
    {
     "data": {
      "image/png": "[encoded data removed]",
      "text/plain": [
       "<Figure size 720x288 with 1 Axes>"
      ]
     },
     "metadata": {
      "needs_background": "light"
     },
     "output_type": "display_data"
    },
    {
     "name": "stdout",
     "output_type": "stream",
     "text": [
      "\n",
      "\n",
      "Q Table:\n",
      "[[0.56439811 0.46073345 0.47016473 0.46372938]\n",
      " [0.28862611 0.36589873 0.30948563 0.46025503]\n",
      " [0.41634195 0.41430137 0.38596426 0.42546981]\n",
      " [0.35614333 0.30756794 0.30825041 0.41845083]\n",
      " [0.58156619 0.29869529 0.40587493 0.40219385]\n",
      " [0.         0.         0.         0.        ]\n",
      " [0.19540828 0.13798554 0.4098025  0.17648021]\n",
      " [0.         0.         0.         0.        ]\n",
      " [0.30634549 0.42659071 0.38563445 0.60602169]\n",
      " [0.36982488 0.67271341 0.45895325 0.3771537 ]\n",
      " [0.63776981 0.41567414 0.36498536 0.38031685]\n",
      " [0.         0.         0.         0.        ]\n",
      " [0.         0.         0.         0.        ]\n",
      " [0.36775532 0.55768488 0.83308946 0.56087892]\n",
      " [0.74813183 0.92564608 0.73795584 0.74991591]\n",
      " [0.         0.         0.         0.        ]]\n"
     ]
    }
   ],
   "source": [
    "rewards_per_thousand_episodes = np.split(np.array(rewards_of_all_episodes),\n",
    "                               num_of_episodes/1000)\n",
    "\n",
    "reward_value_list = []\n",
    "\n",
    "count = 1000\n",
    "print(\"Average reward per thousand episodes \\n\")\n",
    "for i in rewards_per_thousand_episodes:\n",
    "    print(count, \":\", str(sum(i) / 1000))\n",
    "    \n",
    "    current_reward_value = sum(i) / 1000\n",
    "    reward_value_list.append(current_reward_value)\n",
    "    count = count + 1000\n",
    "    \n",
    "    \n",
    "plt.figure(figsize=(10,4))\n",
    "plt.ylim(0,1)\n",
    "\n",
    "plt.plot(reward_value_list, 'b', label='Training loss')\n",
    "plt.xlabel('Episodes in thousands')\n",
    "plt.ylabel('Rewards')\n",
    "#plt.legend()\n",
    "plt.show()\n",
    "\n",
    "    \n",
    "\n",
    "print(\"\\n\")\n",
    "print(\"Q Table:\")\n",
    "print(Q_table)\n",
    "    "
   ]
  },
  {
   "cell_type": "markdown",
   "metadata": {},
   "source": [
    "# Lets see our agent playing the game!"
   ]
  },
  {
   "cell_type": "code",
   "execution_count": 213,
   "metadata": {},
   "outputs": [
    {
     "name": "stdout",
     "output_type": "stream",
     "text": [
      "  (Down)\n",
      "SFFF\n",
      "FHFH\n",
      "FFFH\n",
      "HFF\u001b[41mG\u001b[0m\n",
      "You won the game!\n"
     ]
    }
   ],
   "source": [
    "\n",
    "for episode in range(3):\n",
    "    state = env.reset()\n",
    "    done = False\n",
    "    print(\"Episode\", episode+1, \"\\n\")\n",
    "    time.sleep(1)\n",
    "\n",
    "    for step in range(40):\n",
    "        clear_output(wait=True)\n",
    "        env.render()\n",
    "        time.sleep(0.4)\n",
    "        \n",
    "        action = np.argmax(Q_table[state,:])\n",
    "        new_state, reward, done, info = env.step(action)\n",
    "        \n",
    "        if done:\n",
    "            clear_output(wait=True)\n",
    "            env.render()\n",
    "            if reward == 1:\n",
    "                print(\"You won the game!\")\n",
    "                time.sleep(2)\n",
    "                \n",
    "            else:\n",
    "                print(\"You are dead!\")\n",
    "                time.sleep(2)\n",
    "            \n",
    "            clear_output(wait=True)\n",
    "            break\n",
    "        \n",
    "        state = new_state\n",
    "        \n",
    "        \n",
    "        \n",
    "env.close()"
   ]
  },
  {
   "cell_type": "code",
   "execution_count": null,
   "metadata": {},
   "outputs": [],
   "source": []
  }
 ],
 "metadata": {
  "kernelspec": {
   "display_name": "Python 3",
   "language": "python",
   "name": "python3"
  },
  "language_info": {
   "codemirror_mode": {
    "name": "ipython",
    "version": 3
   },
   "file_extension": ".py",
   "mimetype": "text/x-python",
   "name": "python",
   "nbconvert_exporter": "python",
   "pygments_lexer": "ipython3",
   "version": "3.6.7"
  }
 },
 "nbformat": 4,
 "nbformat_minor": 2
}
